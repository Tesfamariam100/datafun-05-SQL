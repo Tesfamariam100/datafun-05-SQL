{
 "cells": [
  {
   "cell_type": "markdown",
   "id": "a22455f9-66ec-4eee-a114-95211976fdb7",
   "metadata": {},
   "source": [
    "# datafun-05-sql\n",
    "\n",
    "## Project Overview\n",
    "\n",
    "Project 5 blends Python and SQL, emphasizing SQLite database interactions. It introduces logging for debugging and monitoring and involves creating databases, building schemas, and executing various SQL operations.\n",
    "\n",
    "## CC5.1 Start a new Project (Setup Process)\n",
    "\n",
    "### 1. Create a GitHub project repository with a default README.md.\n",
    "\n",
    "I create a new GitHub repository named datafun-05-sql. I include the default README.md and a .gitignore file for Python.\n",
    "\n",
    "### 2. Clone your repo down to your machine. \n",
    "\n",
    "In my PowerShell terminal, I navigate to my Documents folder and clone the repository from GitHub.\n",
    "\n",
    "### 3. Open your project folder in VS Code (if you haven't already).\n",
    "\n",
    "Within the cloned repository folder, I create a new virtual environment named .venv.\n",
    "\n",
    "### 4. Add a .gitignore with .vsode/ and .venv/ and whatever else doesn't need to go in the repo. \n",
    "\n",
    "\n",
    "\n",
    "### 5. Create and activate a local virtual environment in .venv.\n",
    "\n",
    "I create and activate the virtual environment using PowerShell.\n",
    "\n",
    "### 6. Install your dependencies into your .venv (pandas and pyarrow) and freeze into your requirements.txt. \n",
    "\n",
    "I install the pandas and pyarrow and generate a requirements.txt file by running pip freeze and redirecting the output.\n",
    "\n",
    "### 7. Record the commands used in your README.md.\n",
    "\n",
    "### 8. Git add and commit with a useful message (e.g. \"initial commit\") and push to GitHub.\n",
    "\n",
    "I edit the README.md file to document the setup process using Markodown syntax\n",
    "\n",
    "### 9. Create your first project files (usually in VS Code). \n",
    "\n",
    "I Create my first project files (in VS Code). \n",
    "\n",
    "### 10. As you work, git add / commit / push to GitHub.\n",
    "\n",
    "I use the git add / commit / push to GitHub and verify that the README.md and requirements.txt files appear in my GitHub repository, datafun-05-sql.\n",
    "\n",
    "## CC5.2: Use SQL with Python\n",
    "\n",
    "1. I esure CC5.1 steps are complete\n",
    "2. Activate a local virtual environment in .venv."
   ]
  },
  {
   "cell_type": "code",
   "execution_count": null,
   "id": "14dd8529-3582-4de5-ad0b-b771145824c3",
   "metadata": {},
   "outputs": [],
   "source": [
    "'.venv\\Scripts\\activate'"
   ]
  },
  {
   "cell_type": "code",
   "execution_count": null,
   "id": "8abe636a-dbfc-47c7-b9a2-cda27b14ced7",
   "metadata": {},
   "outputs": [],
   "source": []
  }
 ],
 "metadata": {
  "kernelspec": {
   "display_name": "Python 3 (ipykernel)",
   "language": "python",
   "name": "python3"
  },
  "language_info": {
   "codemirror_mode": {
    "name": "ipython",
    "version": 3
   },
   "file_extension": ".py",
   "mimetype": "text/x-python",
   "name": "python",
   "nbconvert_exporter": "python",
   "pygments_lexer": "ipython3",
   "version": "3.12.1"
  }
 },
 "nbformat": 4,
 "nbformat_minor": 5
}
