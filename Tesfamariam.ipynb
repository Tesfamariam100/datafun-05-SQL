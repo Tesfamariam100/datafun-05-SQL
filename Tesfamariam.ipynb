{
 "cells": [
  {
   "cell_type": "markdown",
   "id": "b5e8ccae-605c-4f6c-8fb4-6d427f772119",
   "metadata": {},
   "source": [
    "### Project 5 SQL Module\r\n",
    "import sqlite3"
   ]
  },
  {
   "cell_type": "code",
   "execution_count": null,
   "id": "10f086da-45bf-4ad0-ac18-fce0bb14d542",
   "metadata": {},
   "outputs": [],
   "source": []
  }
 ],
 "metadata": {
  "kernelspec": {
   "display_name": "Python 3 (ipykernel)",
   "language": "python",
   "name": "python3"
  },
  "language_info": {
   "codemirror_mode": {
    "name": "ipython",
    "version": 3
   },
   "file_extension": ".py",
   "mimetype": "text/x-python",
   "name": "python",
   "nbconvert_exporter": "python",
   "pygments_lexer": "ipython3",
   "version": "3.12.1"
  }
 },
 "nbformat": 4,
 "nbformat_minor": 5
}
