{
 "cells": [
  {
   "cell_type": "markdown",
   "id": "b5e8ccae-605c-4f6c-8fb4-6d427f772119",
   "metadata": {},
   "source": [
    "# datafun-05-sql\n",
    "\n",
    "## Project Setup Process\n",
    "\r\n",
    "## Project Overview\r\n",
    "\r\n",
    "This project aims to set up a development environment and repository for my DataFun 05 SQL project.\r\n",
    "\r\n",
    "### 1. Create GitHub Repository\r\n",
    "\r\n",
    "I create a new GitHub repository named datafun-05-sql. I include the default README.md and a .gitignore file for Python.\r\n",
    "\r\n",
    "### 2. Clone Repository\r\n",
    "\r\n",
    "In my PowerShell terminal, I navigate to my Documents folder and clone the repository from GitHub.\r\n",
    "\r\n",
    "### 3. Create Virtual Environment\r\n",
    "\r\n",
    "Within the cloned repository folder, I create a new virtual environment named .venv.\r\n",
    "\r\n",
    "### 4. Activate Environment\r\n",
    "\r\n",
    "I activate the virtual environment using PowerShell.\r\n",
    "\r\n",
    "### 5. Install pandas and pyarrow\r\n",
    "\r\n",
    "In the activated virtual environment, I install the pandas and pyarrow pac ages.\r\n",
    "\r\n",
    "### 6. Generate requirements.txt\r\n",
    "\r\n",
    "I generate a requirements.txt file by running pip freeze and redirecting the output.\r\n",
    "\r\n",
    "### 7. Edit .gitignore\r\n",
    "\r\n",
    "I edit the .gitignore file if necessary to ensure that the .venv directory is\n",
    "\n",
    "### 8. Edit README.md\r\n",
    "\r\n",
    "I edit the README.md file to document the setup process using Mar odown synta\n",
    "### 9. Git Add/Commit/Push\r\n",
    "\r\n",
    "I add, commit, and push my changes to GitHub.\r\n",
    "\r\n",
    "### 10. Verify on GitHub\r\n",
    "\r\n",
    "I verify that the README.md and requirements.txt files appear in my GitHub repository, datafun-05-sql.\r\n",
    "f-05-sql. n o to your repository for verification.\r\n"
   ]
  },
  {
   "cell_type": "code",
   "execution_count": null,
   "id": "10f086da-45bf-4ad0-ac18-fce0bb14d542",
   "metadata": {},
   "outputs": [],
   "source": []
  }
 ],
 "metadata": {
  "kernelspec": {
   "display_name": "Python 3 (ipykernel)",
   "language": "python",
   "name": "python3"
  },
  "language_info": {
   "codemirror_mode": {
    "name": "ipython",
    "version": 3
   },
   "file_extension": ".py",
   "mimetype": "text/x-python",
   "name": "python",
   "nbconvert_exporter": "python",
   "pygments_lexer": "ipython3",
   "version": "3.12.1"
  }
 },
 "nbformat": 4,
 "nbformat_minor": 5
}
